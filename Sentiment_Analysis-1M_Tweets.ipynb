{
 "cells": [
  {
   "cell_type": "markdown",
   "metadata": {
    "colab_type": "text",
    "id": "KjU-BwWzV9dz"
   },
   "source": [
    "# Step 1: Import important libraries"
   ]
  },
  {
   "cell_type": "code",
   "execution_count": 1,
   "metadata": {
    "colab": {},
    "colab_type": "code",
    "id": "_afb6TxfV9d0",
    "outputId": "803a1672-793b-40c2-b436-337fe15fd6ed"
   },
   "outputs": [],
   "source": [
    "import pandas as pd\n",
    "import numpy as np \n",
    "import matplotlib.pyplot as plt\n",
    "\n",
    "import csv\n",
    "import re # for regular expression\n",
    "import string\n",
    "import nltk \n",
    "from nltk.corpus import stopwords\n",
    "from nltk.tokenize import word_tokenize\n",
    "from nltk.tokenize import RegexpTokenizer\n",
    "from collections import Counter \n",
    "\n",
    "%matplotlib inline"
   ]
  },
  {
   "cell_type": "code",
   "execution_count": 2,
   "metadata": {
    "colab": {},
    "colab_type": "code",
    "id": "ontdK6T6V9d3"
   },
   "outputs": [
    {
     "name": "stderr",
     "output_type": "stream",
     "text": [
      "C:\\Users\\lenovo\\anaconda3\\lib\\site-packages\\ipykernel_launcher.py:4: FutureWarning: Passing a negative integer is deprecated in version 1.0 and will not be supported in future version. Instead, use None to not limit the column width.\n",
      "  after removing the cwd from sys.path.\n"
     ]
    }
   ],
   "source": [
    "# change the seeting of the cells\n",
    "pd.set_option('display.max_columns', None)\n",
    "pd.set_option('display.max_rows', None)\n",
    "pd.set_option('display.max_colwidth', -1)"
   ]
  },
  {
   "cell_type": "markdown",
   "metadata": {
    "colab_type": "text",
    "id": "qNR4oNwDV9d6"
   },
   "source": [
    "# Step 2: Read data file"
   ]
  },
  {
   "cell_type": "code",
   "execution_count": 3,
   "metadata": {
    "colab": {},
    "colab_type": "code",
    "id": "b87ZCc0fV9d6"
   },
   "outputs": [],
   "source": [
    "# read csv file and save it in a data frame\n",
    "data_df=pd.read_excel('C:\\\\Users\\\\lenovo\\\\Documents\\\\salmujaiwel\\\\1M_Covid19SaudiTweets.xlsx')"
   ]
  },
  {
   "cell_type": "markdown",
   "metadata": {
    "colab_type": "text",
    "id": "TxcIMo2tV9d9"
   },
   "source": [
    "# Step 3: Explore the data"
   ]
  },
  {
   "cell_type": "code",
   "execution_count": 4,
   "metadata": {
    "colab": {},
    "colab_type": "code",
    "id": "iHyg4mkOV9d9",
    "outputId": "805df2db-c5a9-488a-b9b2-6fa88821f3d9"
   },
   "outputs": [
    {
     "data": {
      "text/plain": [
       "999782"
      ]
     },
     "execution_count": 4,
     "metadata": {},
     "output_type": "execute_result"
    }
   ],
   "source": [
    "# how much data do I have?\n",
    "len(data_df)"
   ]
  },
  {
   "cell_type": "code",
   "execution_count": 5,
   "metadata": {
    "colab": {},
    "colab_type": "code",
    "id": "L9IwRrh-V9ef",
    "outputId": "2861b0fd-5ab0-4cd7-be49-3c6747205ad3"
   },
   "outputs": [
    {
     "data": {
      "text/html": [
       "<div>\n",
       "<style scoped>\n",
       "    .dataframe tbody tr th:only-of-type {\n",
       "        vertical-align: middle;\n",
       "    }\n",
       "\n",
       "    .dataframe tbody tr th {\n",
       "        vertical-align: top;\n",
       "    }\n",
       "\n",
       "    .dataframe thead th {\n",
       "        text-align: right;\n",
       "    }\n",
       "</style>\n",
       "<table border=\"1\" class=\"dataframe\">\n",
       "  <thead>\n",
       "    <tr style=\"text-align: right;\">\n",
       "      <th></th>\n",
       "      <th>UserName</th>\n",
       "      <th>Date</th>\n",
       "      <th>URL</th>\n",
       "      <th>Tweets</th>\n",
       "      <th>Author</th>\n",
       "      <th>Name</th>\n",
       "      <th>Country</th>\n",
       "      <th>UserID</th>\n",
       "    </tr>\n",
       "  </thead>\n",
       "  <tbody>\n",
       "    <tr>\n",
       "      <th>0</th>\n",
       "      <td>lVfgtBolqQnYnG3</td>\n",
       "      <td>2020-04-30 23:59:49</td>\n",
       "      <td>https://twitter.com/user/show/status/1256010401092943873</td>\n",
       "      <td>توقف🤚هنا افضل المتاجر الالكترونيه🛒تسوق اونلاين لتجنب فيروس كورونا✋ كود خصم نسناس star4  ستايلي ST210  اتش اند ام A408 باث اند بودي D3iنمشي star18 نصر الاهلي الهلال الاتحاد جده  توفير نون سنتر تخفيض عروض الهلال ستايلي باث اند بودي كوبون قطر مذركير الإمارات نسناس الرياض https://t.co/NyUQoujFwB</td>\n",
       "      <td>lVfgtBolqQnYnG3</td>\n",
       "      <td>دعاء</td>\n",
       "      <td>المملكة العربية السعودية⁦🇸🇦⁩</td>\n",
       "      <td>1229490000000000000</td>\n",
       "    </tr>\n",
       "    <tr>\n",
       "      <th>1</th>\n",
       "      <td>qlUm50zmMCJuy0h</td>\n",
       "      <td>2020-04-30 23:59:44</td>\n",
       "      <td>https://twitter.com/user/show/status/1256010376996622337</td>\n",
       "      <td>خصومات شهر ابريل 🙊 اشتري كل اللي انت عيزوا بخصومات كتيرة من نون🛒كود خصم نسناس star4 ستايلي ST210 اتش اند ام A408 كوبون باث اند بودي D3iنمشي star18نصر الاهلي الهلال الاتحاد جده الحب توفير سنتر عروض نسناس ستايلي الهلال نمشي باث اند بودي كورونا مذركير قطر الإمارات الرياض https://t.co/bAWlrEQ74U</td>\n",
       "      <td>qlUm50zmMCJuy0h</td>\n",
       "      <td>سحر</td>\n",
       "      <td>المملكة العربية السعودية⁦🇸🇦⁩</td>\n",
       "      <td>1230280000000000000</td>\n",
       "    </tr>\n",
       "    <tr>\n",
       "      <th>2</th>\n",
       "      <td>hagdaa4</td>\n",
       "      <td>2020-04-30 23:59:42</td>\n",
       "      <td>https://twitter.com/user/show/status/1256010369123917824</td>\n",
       "      <td>@ask_abh اتمنى ما يفتحونه لا هو ولاغيره ...حتى يختفي كورونا</td>\n",
       "      <td>hagdaa4</td>\n",
       "      <td>سبحان الله وبحمده سبحاان الله العظيم🌹🌹</td>\n",
       "      <td>KSA</td>\n",
       "      <td>2603608938</td>\n",
       "    </tr>\n",
       "    <tr>\n",
       "      <th>3</th>\n",
       "      <td>nane33441</td>\n",
       "      <td>2020-04-30 23:59:37</td>\n",
       "      <td>https://twitter.com/user/show/status/1256010350815830017</td>\n",
       "      <td>اللهم إن عبادك قد أعيتهم الحيل وضاقت بهم السبل وأظهروا عجزهم وبان ضعفهم وانكشف لهم من أقدارك ما لا حول لهم ولا قوة ... فاللهم لطفك بعبادك في مشارق الارض ومغاربها .#كورونا</td>\n",
       "      <td>nane33441</td>\n",
       "      <td>احمد الشمراني</td>\n",
       "      <td>المملكة العربية السعودية</td>\n",
       "      <td>786485000000000000</td>\n",
       "    </tr>\n",
       "    <tr>\n",
       "      <th>4</th>\n",
       "      <td>h_braveheart</td>\n",
       "      <td>2020-04-30 23:59:35</td>\n",
       "      <td>https://twitter.com/user/show/status/1256010341957414913</td>\n",
       "      <td>تطبيق #توكلنا- طلب استئذان او ترخيص.- عدد الحالات المصابة بـ #كورونا.- انذار عند الاقتراب من المناطق المعزولة.- الابلاغ عن الحالات المشتبه بها.</td>\n",
       "      <td>h_braveheart</td>\n",
       "      <td>‏Braveheart</td>\n",
       "      <td>المملكة العربية السعودية</td>\n",
       "      <td>948794437</td>\n",
       "    </tr>\n",
       "  </tbody>\n",
       "</table>\n",
       "</div>"
      ],
      "text/plain": [
       "          UserName                 Date  \\\n",
       "0  lVfgtBolqQnYnG3  2020-04-30 23:59:49   \n",
       "1  qlUm50zmMCJuy0h  2020-04-30 23:59:44   \n",
       "2  hagdaa4          2020-04-30 23:59:42   \n",
       "3  nane33441        2020-04-30 23:59:37   \n",
       "4  h_braveheart     2020-04-30 23:59:35   \n",
       "\n",
       "                                                        URL  \\\n",
       "0  https://twitter.com/user/show/status/1256010401092943873   \n",
       "1  https://twitter.com/user/show/status/1256010376996622337   \n",
       "2  https://twitter.com/user/show/status/1256010369123917824   \n",
       "3  https://twitter.com/user/show/status/1256010350815830017   \n",
       "4  https://twitter.com/user/show/status/1256010341957414913   \n",
       "\n",
       "                                                                                                                                                                                                                                                                                                 Tweets  \\\n",
       "0  توقف🤚هنا افضل المتاجر الالكترونيه🛒تسوق اونلاين لتجنب فيروس كورونا✋ كود خصم نسناس star4  ستايلي ST210  اتش اند ام A408 باث اند بودي D3iنمشي star18 نصر الاهلي الهلال الاتحاد جده  توفير نون سنتر تخفيض عروض الهلال ستايلي باث اند بودي كوبون قطر مذركير الإمارات نسناس الرياض https://t.co/NyUQoujFwB   \n",
       "1  خصومات شهر ابريل 🙊 اشتري كل اللي انت عيزوا بخصومات كتيرة من نون🛒كود خصم نسناس star4 ستايلي ST210 اتش اند ام A408 كوبون باث اند بودي D3iنمشي star18نصر الاهلي الهلال الاتحاد جده الحب توفير سنتر عروض نسناس ستايلي الهلال نمشي باث اند بودي كورونا مذركير قطر الإمارات الرياض https://t.co/bAWlrEQ74U   \n",
       "2  @ask_abh اتمنى ما يفتحونه لا هو ولاغيره ...حتى يختفي كورونا                                                                                                                                                                                                                                            \n",
       "3  اللهم إن عبادك قد أعيتهم الحيل وضاقت بهم السبل وأظهروا عجزهم وبان ضعفهم وانكشف لهم من أقدارك ما لا حول لهم ولا قوة ... فاللهم لطفك بعبادك في مشارق الارض ومغاربها .#كورونا                                                                                                                             \n",
       "4  تطبيق #توكلنا- طلب استئذان او ترخيص.- عدد الحالات المصابة بـ #كورونا.- انذار عند الاقتراب من المناطق المعزولة.- الابلاغ عن الحالات المشتبه بها.                                                                                                                                                        \n",
       "\n",
       "            Author                                    Name  \\\n",
       "0  lVfgtBolqQnYnG3  دعاء                                     \n",
       "1  qlUm50zmMCJuy0h  سحر                                      \n",
       "2  hagdaa4          سبحان الله وبحمده سبحاان الله العظيم🌹🌹   \n",
       "3  nane33441        احمد الشمراني                            \n",
       "4  h_braveheart     ‏Braveheart                              \n",
       "\n",
       "                        Country               UserID  \n",
       "0  المملكة العربية السعودية⁦🇸🇦⁩  1229490000000000000  \n",
       "1  المملكة العربية السعودية⁦🇸🇦⁩  1230280000000000000  \n",
       "2  KSA                           2603608938           \n",
       "3  المملكة العربية السعودية      786485000000000000   \n",
       "4  المملكة العربية السعودية      948794437            "
      ]
     },
     "execution_count": 5,
     "metadata": {},
     "output_type": "execute_result"
    }
   ],
   "source": [
    "# How about if I want to see part of the data?\n",
    "data_df.head()"
   ]
  },
  {
   "cell_type": "code",
   "execution_count": 6,
   "metadata": {},
   "outputs": [],
   "source": [
    "# Remove nosiy tweets\n",
    "noise=[\"كود خصم\",\"خصومات\",\"كوبون\",\"تخفيضات\",\"العقارات\",\"لملاك\",\"ملاك\",\"عقارات\",\"جلب الحبيب\",\"فك السحر\"]"
   ]
  },
  {
   "cell_type": "code",
   "execution_count": 7,
   "metadata": {},
   "outputs": [],
   "source": [
    "def remove_noise(tweet):\n",
    "    label=\"ok\"\n",
    "    for word in noise:\n",
    "        if word in tweet:\n",
    "            label=\"noise\"\n",
    "    return label"
   ]
  },
  {
   "cell_type": "code",
   "execution_count": 10,
   "metadata": {},
   "outputs": [],
   "source": [
    "# apply the method\n",
    "data_df[\"is Noise\"] = data_df['Tweets'].apply(lambda x: remove_noise(str(x)))"
   ]
  },
  {
   "cell_type": "code",
   "execution_count": 11,
   "metadata": {},
   "outputs": [
    {
     "data": {
      "text/html": [
       "<div>\n",
       "<style scoped>\n",
       "    .dataframe tbody tr th:only-of-type {\n",
       "        vertical-align: middle;\n",
       "    }\n",
       "\n",
       "    .dataframe tbody tr th {\n",
       "        vertical-align: top;\n",
       "    }\n",
       "\n",
       "    .dataframe thead th {\n",
       "        text-align: right;\n",
       "    }\n",
       "</style>\n",
       "<table border=\"1\" class=\"dataframe\">\n",
       "  <thead>\n",
       "    <tr style=\"text-align: right;\">\n",
       "      <th></th>\n",
       "      <th>UserName</th>\n",
       "      <th>Date</th>\n",
       "      <th>URL</th>\n",
       "      <th>Tweets</th>\n",
       "      <th>Author</th>\n",
       "      <th>Name</th>\n",
       "      <th>Country</th>\n",
       "      <th>UserID</th>\n",
       "      <th>is Noise</th>\n",
       "    </tr>\n",
       "  </thead>\n",
       "  <tbody>\n",
       "    <tr>\n",
       "      <th>0</th>\n",
       "      <td>lVfgtBolqQnYnG3</td>\n",
       "      <td>2020-04-30 23:59:49</td>\n",
       "      <td>https://twitter.com/user/show/status/1256010401092943873</td>\n",
       "      <td>توقف🤚هنا افضل المتاجر الالكترونيه🛒تسوق اونلاين لتجنب فيروس كورونا✋ كود خصم نسناس star4  ستايلي ST210  اتش اند ام A408 باث اند بودي D3iنمشي star18 نصر الاهلي الهلال الاتحاد جده  توفير نون سنتر تخفيض عروض الهلال ستايلي باث اند بودي كوبون قطر مذركير الإمارات نسناس الرياض https://t.co/NyUQoujFwB</td>\n",
       "      <td>lVfgtBolqQnYnG3</td>\n",
       "      <td>دعاء</td>\n",
       "      <td>المملكة العربية السعودية⁦🇸🇦⁩</td>\n",
       "      <td>1229490000000000000</td>\n",
       "      <td>noise</td>\n",
       "    </tr>\n",
       "    <tr>\n",
       "      <th>1</th>\n",
       "      <td>qlUm50zmMCJuy0h</td>\n",
       "      <td>2020-04-30 23:59:44</td>\n",
       "      <td>https://twitter.com/user/show/status/1256010376996622337</td>\n",
       "      <td>خصومات شهر ابريل 🙊 اشتري كل اللي انت عيزوا بخصومات كتيرة من نون🛒كود خصم نسناس star4 ستايلي ST210 اتش اند ام A408 كوبون باث اند بودي D3iنمشي star18نصر الاهلي الهلال الاتحاد جده الحب توفير سنتر عروض نسناس ستايلي الهلال نمشي باث اند بودي كورونا مذركير قطر الإمارات الرياض https://t.co/bAWlrEQ74U</td>\n",
       "      <td>qlUm50zmMCJuy0h</td>\n",
       "      <td>سحر</td>\n",
       "      <td>المملكة العربية السعودية⁦🇸🇦⁩</td>\n",
       "      <td>1230280000000000000</td>\n",
       "      <td>noise</td>\n",
       "    </tr>\n",
       "    <tr>\n",
       "      <th>2</th>\n",
       "      <td>hagdaa4</td>\n",
       "      <td>2020-04-30 23:59:42</td>\n",
       "      <td>https://twitter.com/user/show/status/1256010369123917824</td>\n",
       "      <td>@ask_abh اتمنى ما يفتحونه لا هو ولاغيره ...حتى يختفي كورونا</td>\n",
       "      <td>hagdaa4</td>\n",
       "      <td>سبحان الله وبحمده سبحاان الله العظيم🌹🌹</td>\n",
       "      <td>KSA</td>\n",
       "      <td>2603608938</td>\n",
       "      <td>ok</td>\n",
       "    </tr>\n",
       "    <tr>\n",
       "      <th>3</th>\n",
       "      <td>nane33441</td>\n",
       "      <td>2020-04-30 23:59:37</td>\n",
       "      <td>https://twitter.com/user/show/status/1256010350815830017</td>\n",
       "      <td>اللهم إن عبادك قد أعيتهم الحيل وضاقت بهم السبل وأظهروا عجزهم وبان ضعفهم وانكشف لهم من أقدارك ما لا حول لهم ولا قوة ... فاللهم لطفك بعبادك في مشارق الارض ومغاربها .#كورونا</td>\n",
       "      <td>nane33441</td>\n",
       "      <td>احمد الشمراني</td>\n",
       "      <td>المملكة العربية السعودية</td>\n",
       "      <td>786485000000000000</td>\n",
       "      <td>ok</td>\n",
       "    </tr>\n",
       "    <tr>\n",
       "      <th>4</th>\n",
       "      <td>h_braveheart</td>\n",
       "      <td>2020-04-30 23:59:35</td>\n",
       "      <td>https://twitter.com/user/show/status/1256010341957414913</td>\n",
       "      <td>تطبيق #توكلنا- طلب استئذان او ترخيص.- عدد الحالات المصابة بـ #كورونا.- انذار عند الاقتراب من المناطق المعزولة.- الابلاغ عن الحالات المشتبه بها.</td>\n",
       "      <td>h_braveheart</td>\n",
       "      <td>‏Braveheart</td>\n",
       "      <td>المملكة العربية السعودية</td>\n",
       "      <td>948794437</td>\n",
       "      <td>ok</td>\n",
       "    </tr>\n",
       "  </tbody>\n",
       "</table>\n",
       "</div>"
      ],
      "text/plain": [
       "          UserName                 Date  \\\n",
       "0  lVfgtBolqQnYnG3  2020-04-30 23:59:49   \n",
       "1  qlUm50zmMCJuy0h  2020-04-30 23:59:44   \n",
       "2  hagdaa4          2020-04-30 23:59:42   \n",
       "3  nane33441        2020-04-30 23:59:37   \n",
       "4  h_braveheart     2020-04-30 23:59:35   \n",
       "\n",
       "                                                        URL  \\\n",
       "0  https://twitter.com/user/show/status/1256010401092943873   \n",
       "1  https://twitter.com/user/show/status/1256010376996622337   \n",
       "2  https://twitter.com/user/show/status/1256010369123917824   \n",
       "3  https://twitter.com/user/show/status/1256010350815830017   \n",
       "4  https://twitter.com/user/show/status/1256010341957414913   \n",
       "\n",
       "                                                                                                                                                                                                                                                                                                 Tweets  \\\n",
       "0  توقف🤚هنا افضل المتاجر الالكترونيه🛒تسوق اونلاين لتجنب فيروس كورونا✋ كود خصم نسناس star4  ستايلي ST210  اتش اند ام A408 باث اند بودي D3iنمشي star18 نصر الاهلي الهلال الاتحاد جده  توفير نون سنتر تخفيض عروض الهلال ستايلي باث اند بودي كوبون قطر مذركير الإمارات نسناس الرياض https://t.co/NyUQoujFwB   \n",
       "1  خصومات شهر ابريل 🙊 اشتري كل اللي انت عيزوا بخصومات كتيرة من نون🛒كود خصم نسناس star4 ستايلي ST210 اتش اند ام A408 كوبون باث اند بودي D3iنمشي star18نصر الاهلي الهلال الاتحاد جده الحب توفير سنتر عروض نسناس ستايلي الهلال نمشي باث اند بودي كورونا مذركير قطر الإمارات الرياض https://t.co/bAWlrEQ74U   \n",
       "2  @ask_abh اتمنى ما يفتحونه لا هو ولاغيره ...حتى يختفي كورونا                                                                                                                                                                                                                                            \n",
       "3  اللهم إن عبادك قد أعيتهم الحيل وضاقت بهم السبل وأظهروا عجزهم وبان ضعفهم وانكشف لهم من أقدارك ما لا حول لهم ولا قوة ... فاللهم لطفك بعبادك في مشارق الارض ومغاربها .#كورونا                                                                                                                             \n",
       "4  تطبيق #توكلنا- طلب استئذان او ترخيص.- عدد الحالات المصابة بـ #كورونا.- انذار عند الاقتراب من المناطق المعزولة.- الابلاغ عن الحالات المشتبه بها.                                                                                                                                                        \n",
       "\n",
       "            Author                                    Name  \\\n",
       "0  lVfgtBolqQnYnG3  دعاء                                     \n",
       "1  qlUm50zmMCJuy0h  سحر                                      \n",
       "2  hagdaa4          سبحان الله وبحمده سبحاان الله العظيم🌹🌹   \n",
       "3  nane33441        احمد الشمراني                            \n",
       "4  h_braveheart     ‏Braveheart                              \n",
       "\n",
       "                        Country               UserID is Noise  \n",
       "0  المملكة العربية السعودية⁦🇸🇦⁩  1229490000000000000  noise    \n",
       "1  المملكة العربية السعودية⁦🇸🇦⁩  1230280000000000000  noise    \n",
       "2  KSA                           2603608938           ok       \n",
       "3  المملكة العربية السعودية      786485000000000000   ok       \n",
       "4  المملكة العربية السعودية      948794437            ok       "
      ]
     },
     "execution_count": 11,
     "metadata": {},
     "output_type": "execute_result"
    }
   ],
   "source": [
    "data_df.head()"
   ]
  },
  {
   "cell_type": "code",
   "execution_count": 12,
   "metadata": {},
   "outputs": [],
   "source": [
    "# remove the noise\n",
    "data_df=data_df[data_df[\"is Noise\"]!=\"noise\"]"
   ]
  },
  {
   "cell_type": "code",
   "execution_count": 13,
   "metadata": {},
   "outputs": [
    {
     "data": {
      "text/html": [
       "<div>\n",
       "<style scoped>\n",
       "    .dataframe tbody tr th:only-of-type {\n",
       "        vertical-align: middle;\n",
       "    }\n",
       "\n",
       "    .dataframe tbody tr th {\n",
       "        vertical-align: top;\n",
       "    }\n",
       "\n",
       "    .dataframe thead th {\n",
       "        text-align: right;\n",
       "    }\n",
       "</style>\n",
       "<table border=\"1\" class=\"dataframe\">\n",
       "  <thead>\n",
       "    <tr style=\"text-align: right;\">\n",
       "      <th></th>\n",
       "      <th>UserName</th>\n",
       "      <th>Date</th>\n",
       "      <th>URL</th>\n",
       "      <th>Tweets</th>\n",
       "      <th>Author</th>\n",
       "      <th>Name</th>\n",
       "      <th>Country</th>\n",
       "      <th>UserID</th>\n",
       "      <th>is Noise</th>\n",
       "    </tr>\n",
       "  </thead>\n",
       "  <tbody>\n",
       "    <tr>\n",
       "      <th>2</th>\n",
       "      <td>hagdaa4</td>\n",
       "      <td>2020-04-30 23:59:42</td>\n",
       "      <td>https://twitter.com/user/show/status/1256010369123917824</td>\n",
       "      <td>@ask_abh اتمنى ما يفتحونه لا هو ولاغيره ...حتى يختفي كورونا</td>\n",
       "      <td>hagdaa4</td>\n",
       "      <td>سبحان الله وبحمده سبحاان الله العظيم🌹🌹</td>\n",
       "      <td>KSA</td>\n",
       "      <td>2603608938</td>\n",
       "      <td>ok</td>\n",
       "    </tr>\n",
       "    <tr>\n",
       "      <th>3</th>\n",
       "      <td>nane33441</td>\n",
       "      <td>2020-04-30 23:59:37</td>\n",
       "      <td>https://twitter.com/user/show/status/1256010350815830017</td>\n",
       "      <td>اللهم إن عبادك قد أعيتهم الحيل وضاقت بهم السبل وأظهروا عجزهم وبان ضعفهم وانكشف لهم من أقدارك ما لا حول لهم ولا قوة ... فاللهم لطفك بعبادك في مشارق الارض ومغاربها .#كورونا</td>\n",
       "      <td>nane33441</td>\n",
       "      <td>احمد الشمراني</td>\n",
       "      <td>المملكة العربية السعودية</td>\n",
       "      <td>786485000000000000</td>\n",
       "      <td>ok</td>\n",
       "    </tr>\n",
       "    <tr>\n",
       "      <th>4</th>\n",
       "      <td>h_braveheart</td>\n",
       "      <td>2020-04-30 23:59:35</td>\n",
       "      <td>https://twitter.com/user/show/status/1256010341957414913</td>\n",
       "      <td>تطبيق #توكلنا- طلب استئذان او ترخيص.- عدد الحالات المصابة بـ #كورونا.- انذار عند الاقتراب من المناطق المعزولة.- الابلاغ عن الحالات المشتبه بها.</td>\n",
       "      <td>h_braveheart</td>\n",
       "      <td>‏Braveheart</td>\n",
       "      <td>المملكة العربية السعودية</td>\n",
       "      <td>948794437</td>\n",
       "      <td>ok</td>\n",
       "    </tr>\n",
       "    <tr>\n",
       "      <th>5</th>\n",
       "      <td>wn12313</td>\n",
       "      <td>2020-04-30 23:59:19</td>\n",
       "      <td>https://twitter.com/user/show/status/1256010274404028416</td>\n",
       "      <td>@Dan88Dn اخاف الحراره تجيني يختي كيف اقنعهم وقتها انو مو كورونا</td>\n",
       "      <td>wn12313</td>\n",
       "      <td>عَبث طفَله| 11 days left for my birthday🎈💛</td>\n",
       "      <td>المملكة العربية السعودية</td>\n",
       "      <td>1001190000000000000</td>\n",
       "      <td>ok</td>\n",
       "    </tr>\n",
       "    <tr>\n",
       "      <th>6</th>\n",
       "      <td>1mdlo</td>\n",
       "      <td>2020-04-30 23:59:07</td>\n",
       "      <td>https://twitter.com/user/show/status/1256010224810496001</td>\n",
       "      <td>@nafxil2 احنا دفعنا لعمال بداية السنة ويوم جاء كورونا قالوا اجازة من الحكومة واهربوا</td>\n",
       "      <td>1mdlo</td>\n",
       "      <td>دو</td>\n",
       "      <td>Kingdom of Saudi Arabia</td>\n",
       "      <td>1212290000000000000</td>\n",
       "      <td>ok</td>\n",
       "    </tr>\n",
       "  </tbody>\n",
       "</table>\n",
       "</div>"
      ],
      "text/plain": [
       "       UserName                 Date  \\\n",
       "2  hagdaa4       2020-04-30 23:59:42   \n",
       "3  nane33441     2020-04-30 23:59:37   \n",
       "4  h_braveheart  2020-04-30 23:59:35   \n",
       "5  wn12313       2020-04-30 23:59:19   \n",
       "6  1mdlo         2020-04-30 23:59:07   \n",
       "\n",
       "                                                        URL  \\\n",
       "2  https://twitter.com/user/show/status/1256010369123917824   \n",
       "3  https://twitter.com/user/show/status/1256010350815830017   \n",
       "4  https://twitter.com/user/show/status/1256010341957414913   \n",
       "5  https://twitter.com/user/show/status/1256010274404028416   \n",
       "6  https://twitter.com/user/show/status/1256010224810496001   \n",
       "\n",
       "                                                                                                                                                                       Tweets  \\\n",
       "2  @ask_abh اتمنى ما يفتحونه لا هو ولاغيره ...حتى يختفي كورونا                                                                                                                  \n",
       "3  اللهم إن عبادك قد أعيتهم الحيل وضاقت بهم السبل وأظهروا عجزهم وبان ضعفهم وانكشف لهم من أقدارك ما لا حول لهم ولا قوة ... فاللهم لطفك بعبادك في مشارق الارض ومغاربها .#كورونا   \n",
       "4  تطبيق #توكلنا- طلب استئذان او ترخيص.- عدد الحالات المصابة بـ #كورونا.- انذار عند الاقتراب من المناطق المعزولة.- الابلاغ عن الحالات المشتبه بها.                              \n",
       "5  @Dan88Dn اخاف الحراره تجيني يختي كيف اقنعهم وقتها انو مو كورونا                                                                                                              \n",
       "6  @nafxil2 احنا دفعنا لعمال بداية السنة ويوم جاء كورونا قالوا اجازة من الحكومة واهربوا                                                                                         \n",
       "\n",
       "         Author                                        Name  \\\n",
       "2  hagdaa4       سبحان الله وبحمده سبحاان الله العظيم🌹🌹       \n",
       "3  nane33441     احمد الشمراني                                \n",
       "4  h_braveheart  ‏Braveheart                                  \n",
       "5  wn12313       عَبث طفَله| 11 days left for my birthday🎈💛   \n",
       "6  1mdlo         دو                                           \n",
       "\n",
       "                    Country               UserID is Noise  \n",
       "2  KSA                       2603608938           ok       \n",
       "3  المملكة العربية السعودية  786485000000000000   ok       \n",
       "4  المملكة العربية السعودية  948794437            ok       \n",
       "5  المملكة العربية السعودية  1001190000000000000  ok       \n",
       "6  Kingdom of Saudi Arabia   1212290000000000000  ok       "
      ]
     },
     "execution_count": 13,
     "metadata": {},
     "output_type": "execute_result"
    }
   ],
   "source": [
    "data_df.head()"
   ]
  },
  {
   "cell_type": "markdown",
   "metadata": {},
   "source": [
    "# Step 4: Apply the lexicon "
   ]
  },
  {
   "cell_type": "code",
   "execution_count": 14,
   "metadata": {},
   "outputs": [],
   "source": [
    "# read positive words list\n",
    "pos_df=pd.read_csv(\"C:\\\\Users\\\\lenovo\\\\Documents\\\\salmujaiwel\\\\pos.csv\")"
   ]
  },
  {
   "cell_type": "code",
   "execution_count": 15,
   "metadata": {},
   "outputs": [
    {
     "data": {
      "text/html": [
       "<div>\n",
       "<style scoped>\n",
       "    .dataframe tbody tr th:only-of-type {\n",
       "        vertical-align: middle;\n",
       "    }\n",
       "\n",
       "    .dataframe tbody tr th {\n",
       "        vertical-align: top;\n",
       "    }\n",
       "\n",
       "    .dataframe thead th {\n",
       "        text-align: right;\n",
       "    }\n",
       "</style>\n",
       "<table border=\"1\" class=\"dataframe\">\n",
       "  <thead>\n",
       "    <tr style=\"text-align: right;\">\n",
       "      <th></th>\n",
       "      <th>word</th>\n",
       "    </tr>\n",
       "  </thead>\n",
       "  <tbody>\n",
       "    <tr>\n",
       "      <th>0</th>\n",
       "      <td>يوفقكو</td>\n",
       "    </tr>\n",
       "    <tr>\n",
       "      <th>1</th>\n",
       "      <td>يوغوتي</td>\n",
       "    </tr>\n",
       "    <tr>\n",
       "      <th>2</th>\n",
       "      <td>ينشاف</td>\n",
       "    </tr>\n",
       "    <tr>\n",
       "      <th>3</th>\n",
       "      <td>ينرد</td>\n",
       "    </tr>\n",
       "    <tr>\n",
       "      <th>4</th>\n",
       "      <td>ينحشر</td>\n",
       "    </tr>\n",
       "    <tr>\n",
       "      <th>5</th>\n",
       "      <td>يميني</td>\n",
       "    </tr>\n",
       "    <tr>\n",
       "      <th>6</th>\n",
       "      <td>يمنعش</td>\n",
       "    </tr>\n",
       "    <tr>\n",
       "      <th>7</th>\n",
       "      <td>يشب</td>\n",
       "    </tr>\n",
       "    <tr>\n",
       "      <th>8</th>\n",
       "      <td>يشافي</td>\n",
       "    </tr>\n",
       "    <tr>\n",
       "      <th>9</th>\n",
       "      <td>يسولف</td>\n",
       "    </tr>\n",
       "  </tbody>\n",
       "</table>\n",
       "</div>"
      ],
      "text/plain": [
       "     word\n",
       "0  يوفقكو\n",
       "1  يوغوتي\n",
       "2  ينشاف \n",
       "3  ينرد  \n",
       "4  ينحشر \n",
       "5  يميني \n",
       "6  يمنعش \n",
       "7  يشب   \n",
       "8  يشافي \n",
       "9  يسولف "
      ]
     },
     "execution_count": 15,
     "metadata": {},
     "output_type": "execute_result"
    }
   ],
   "source": [
    "pos_df[0:10]"
   ]
  },
  {
   "cell_type": "code",
   "execution_count": 16,
   "metadata": {},
   "outputs": [],
   "source": [
    "pos_list=pos_df[\"word\"].values.tolist()"
   ]
  },
  {
   "cell_type": "code",
   "execution_count": 17,
   "metadata": {},
   "outputs": [],
   "source": [
    "def pos_sentiment(tweet):\n",
    "    \n",
    "    count=0\n",
    "    # loop through the list of words and see if they are in the tweet text\n",
    "    for word in pos_list:\n",
    "        \n",
    "        if word in tweet:\n",
    "            count+=1\n",
    "    \n",
    "    return count"
   ]
  },
  {
   "cell_type": "code",
   "execution_count": 19,
   "metadata": {},
   "outputs": [],
   "source": [
    "#apply the method to the data\n",
    "data_df[\"pos_count\"] = data_df['Tweets'].apply(lambda x: pos_sentiment(str(x)))"
   ]
  },
  {
   "cell_type": "code",
   "execution_count": 20,
   "metadata": {},
   "outputs": [
    {
     "data": {
      "text/html": [
       "<div>\n",
       "<style scoped>\n",
       "    .dataframe tbody tr th:only-of-type {\n",
       "        vertical-align: middle;\n",
       "    }\n",
       "\n",
       "    .dataframe tbody tr th {\n",
       "        vertical-align: top;\n",
       "    }\n",
       "\n",
       "    .dataframe thead th {\n",
       "        text-align: right;\n",
       "    }\n",
       "</style>\n",
       "<table border=\"1\" class=\"dataframe\">\n",
       "  <thead>\n",
       "    <tr style=\"text-align: right;\">\n",
       "      <th></th>\n",
       "      <th>UserName</th>\n",
       "      <th>Date</th>\n",
       "      <th>URL</th>\n",
       "      <th>Tweets</th>\n",
       "      <th>Author</th>\n",
       "      <th>Name</th>\n",
       "      <th>Country</th>\n",
       "      <th>UserID</th>\n",
       "      <th>is Noise</th>\n",
       "      <th>pos_count</th>\n",
       "    </tr>\n",
       "  </thead>\n",
       "  <tbody>\n",
       "    <tr>\n",
       "      <th>2</th>\n",
       "      <td>hagdaa4</td>\n",
       "      <td>2020-04-30 23:59:42</td>\n",
       "      <td>https://twitter.com/user/show/status/1256010369123917824</td>\n",
       "      <td>@ask_abh اتمنى ما يفتحونه لا هو ولاغيره ...حتى يختفي كورونا</td>\n",
       "      <td>hagdaa4</td>\n",
       "      <td>سبحان الله وبحمده سبحاان الله العظيم🌹🌹</td>\n",
       "      <td>KSA</td>\n",
       "      <td>2603608938</td>\n",
       "      <td>ok</td>\n",
       "      <td>1</td>\n",
       "    </tr>\n",
       "    <tr>\n",
       "      <th>3</th>\n",
       "      <td>nane33441</td>\n",
       "      <td>2020-04-30 23:59:37</td>\n",
       "      <td>https://twitter.com/user/show/status/1256010350815830017</td>\n",
       "      <td>اللهم إن عبادك قد أعيتهم الحيل وضاقت بهم السبل وأظهروا عجزهم وبان ضعفهم وانكشف لهم من أقدارك ما لا حول لهم ولا قوة ... فاللهم لطفك بعبادك في مشارق الارض ومغاربها .#كورونا</td>\n",
       "      <td>nane33441</td>\n",
       "      <td>احمد الشمراني</td>\n",
       "      <td>المملكة العربية السعودية</td>\n",
       "      <td>786485000000000000</td>\n",
       "      <td>ok</td>\n",
       "      <td>1</td>\n",
       "    </tr>\n",
       "    <tr>\n",
       "      <th>4</th>\n",
       "      <td>h_braveheart</td>\n",
       "      <td>2020-04-30 23:59:35</td>\n",
       "      <td>https://twitter.com/user/show/status/1256010341957414913</td>\n",
       "      <td>تطبيق #توكلنا- طلب استئذان او ترخيص.- عدد الحالات المصابة بـ #كورونا.- انذار عند الاقتراب من المناطق المعزولة.- الابلاغ عن الحالات المشتبه بها.</td>\n",
       "      <td>h_braveheart</td>\n",
       "      <td>‏Braveheart</td>\n",
       "      <td>المملكة العربية السعودية</td>\n",
       "      <td>948794437</td>\n",
       "      <td>ok</td>\n",
       "      <td>3</td>\n",
       "    </tr>\n",
       "    <tr>\n",
       "      <th>5</th>\n",
       "      <td>wn12313</td>\n",
       "      <td>2020-04-30 23:59:19</td>\n",
       "      <td>https://twitter.com/user/show/status/1256010274404028416</td>\n",
       "      <td>@Dan88Dn اخاف الحراره تجيني يختي كيف اقنعهم وقتها انو مو كورونا</td>\n",
       "      <td>wn12313</td>\n",
       "      <td>عَبث طفَله| 11 days left for my birthday🎈💛</td>\n",
       "      <td>المملكة العربية السعودية</td>\n",
       "      <td>1001190000000000000</td>\n",
       "      <td>ok</td>\n",
       "      <td>1</td>\n",
       "    </tr>\n",
       "    <tr>\n",
       "      <th>6</th>\n",
       "      <td>1mdlo</td>\n",
       "      <td>2020-04-30 23:59:07</td>\n",
       "      <td>https://twitter.com/user/show/status/1256010224810496001</td>\n",
       "      <td>@nafxil2 احنا دفعنا لعمال بداية السنة ويوم جاء كورونا قالوا اجازة من الحكومة واهربوا</td>\n",
       "      <td>1mdlo</td>\n",
       "      <td>دو</td>\n",
       "      <td>Kingdom of Saudi Arabia</td>\n",
       "      <td>1212290000000000000</td>\n",
       "      <td>ok</td>\n",
       "      <td>1</td>\n",
       "    </tr>\n",
       "  </tbody>\n",
       "</table>\n",
       "</div>"
      ],
      "text/plain": [
       "       UserName                 Date  \\\n",
       "2  hagdaa4       2020-04-30 23:59:42   \n",
       "3  nane33441     2020-04-30 23:59:37   \n",
       "4  h_braveheart  2020-04-30 23:59:35   \n",
       "5  wn12313       2020-04-30 23:59:19   \n",
       "6  1mdlo         2020-04-30 23:59:07   \n",
       "\n",
       "                                                        URL  \\\n",
       "2  https://twitter.com/user/show/status/1256010369123917824   \n",
       "3  https://twitter.com/user/show/status/1256010350815830017   \n",
       "4  https://twitter.com/user/show/status/1256010341957414913   \n",
       "5  https://twitter.com/user/show/status/1256010274404028416   \n",
       "6  https://twitter.com/user/show/status/1256010224810496001   \n",
       "\n",
       "                                                                                                                                                                       Tweets  \\\n",
       "2  @ask_abh اتمنى ما يفتحونه لا هو ولاغيره ...حتى يختفي كورونا                                                                                                                  \n",
       "3  اللهم إن عبادك قد أعيتهم الحيل وضاقت بهم السبل وأظهروا عجزهم وبان ضعفهم وانكشف لهم من أقدارك ما لا حول لهم ولا قوة ... فاللهم لطفك بعبادك في مشارق الارض ومغاربها .#كورونا   \n",
       "4  تطبيق #توكلنا- طلب استئذان او ترخيص.- عدد الحالات المصابة بـ #كورونا.- انذار عند الاقتراب من المناطق المعزولة.- الابلاغ عن الحالات المشتبه بها.                              \n",
       "5  @Dan88Dn اخاف الحراره تجيني يختي كيف اقنعهم وقتها انو مو كورونا                                                                                                              \n",
       "6  @nafxil2 احنا دفعنا لعمال بداية السنة ويوم جاء كورونا قالوا اجازة من الحكومة واهربوا                                                                                         \n",
       "\n",
       "         Author                                        Name  \\\n",
       "2  hagdaa4       سبحان الله وبحمده سبحاان الله العظيم🌹🌹       \n",
       "3  nane33441     احمد الشمراني                                \n",
       "4  h_braveheart  ‏Braveheart                                  \n",
       "5  wn12313       عَبث طفَله| 11 days left for my birthday🎈💛   \n",
       "6  1mdlo         دو                                           \n",
       "\n",
       "                    Country               UserID is Noise  pos_count  \n",
       "2  KSA                       2603608938           ok       1          \n",
       "3  المملكة العربية السعودية  786485000000000000   ok       1          \n",
       "4  المملكة العربية السعودية  948794437            ok       3          \n",
       "5  المملكة العربية السعودية  1001190000000000000  ok       1          \n",
       "6  Kingdom of Saudi Arabia   1212290000000000000  ok       1          "
      ]
     },
     "execution_count": 20,
     "metadata": {},
     "output_type": "execute_result"
    }
   ],
   "source": [
    "data_df.head()"
   ]
  },
  {
   "cell_type": "code",
   "execution_count": 21,
   "metadata": {},
   "outputs": [],
   "source": [
    "# read negative words list\n",
    "neg_df=pd.read_csv(\"C:\\\\Users\\\\lenovo\\\\Documents\\\\salmujaiwel\\\\neg.csv\")"
   ]
  },
  {
   "cell_type": "code",
   "execution_count": 22,
   "metadata": {},
   "outputs": [],
   "source": [
    "neg_list=neg_df[\"word\"].values.tolist()"
   ]
  },
  {
   "cell_type": "code",
   "execution_count": 23,
   "metadata": {},
   "outputs": [],
   "source": [
    "def neg_sentiment(tweet):\n",
    "    \n",
    "    count=0\n",
    "     # loop through the list of words and see if they are in the tweet text\n",
    "    for word in neg_list:\n",
    "        if word in tweet:\n",
    "            count+=1\n",
    "               \n",
    "    return count"
   ]
  },
  {
   "cell_type": "code",
   "execution_count": 24,
   "metadata": {},
   "outputs": [],
   "source": [
    "#apply the method to the data\n",
    "data_df[\"neg_count\"] = data_df['Tweets'].apply(lambda x: neg_sentiment(str(x)))"
   ]
  },
  {
   "cell_type": "code",
   "execution_count": 25,
   "metadata": {
    "scrolled": false
   },
   "outputs": [
    {
     "data": {
      "text/html": [
       "<div>\n",
       "<style scoped>\n",
       "    .dataframe tbody tr th:only-of-type {\n",
       "        vertical-align: middle;\n",
       "    }\n",
       "\n",
       "    .dataframe tbody tr th {\n",
       "        vertical-align: top;\n",
       "    }\n",
       "\n",
       "    .dataframe thead th {\n",
       "        text-align: right;\n",
       "    }\n",
       "</style>\n",
       "<table border=\"1\" class=\"dataframe\">\n",
       "  <thead>\n",
       "    <tr style=\"text-align: right;\">\n",
       "      <th></th>\n",
       "      <th>UserName</th>\n",
       "      <th>Date</th>\n",
       "      <th>URL</th>\n",
       "      <th>Tweets</th>\n",
       "      <th>Author</th>\n",
       "      <th>Name</th>\n",
       "      <th>Country</th>\n",
       "      <th>UserID</th>\n",
       "      <th>is Noise</th>\n",
       "      <th>pos_count</th>\n",
       "      <th>neg_count</th>\n",
       "    </tr>\n",
       "  </thead>\n",
       "  <tbody>\n",
       "    <tr>\n",
       "      <th>2</th>\n",
       "      <td>hagdaa4</td>\n",
       "      <td>2020-04-30 23:59:42</td>\n",
       "      <td>https://twitter.com/user/show/status/1256010369123917824</td>\n",
       "      <td>@ask_abh اتمنى ما يفتحونه لا هو ولاغيره ...حتى يختفي كورونا</td>\n",
       "      <td>hagdaa4</td>\n",
       "      <td>سبحان الله وبحمده سبحاان الله العظيم🌹🌹</td>\n",
       "      <td>KSA</td>\n",
       "      <td>2603608938</td>\n",
       "      <td>ok</td>\n",
       "      <td>1</td>\n",
       "      <td>1</td>\n",
       "    </tr>\n",
       "  </tbody>\n",
       "</table>\n",
       "</div>"
      ],
      "text/plain": [
       "  UserName                 Date  \\\n",
       "2  hagdaa4  2020-04-30 23:59:42   \n",
       "\n",
       "                                                        URL  \\\n",
       "2  https://twitter.com/user/show/status/1256010369123917824   \n",
       "\n",
       "                                                        Tweets   Author  \\\n",
       "2  @ask_abh اتمنى ما يفتحونه لا هو ولاغيره ...حتى يختفي كورونا  hagdaa4   \n",
       "\n",
       "                                     Name Country      UserID is Noise  \\\n",
       "2  سبحان الله وبحمده سبحاان الله العظيم🌹🌹  KSA     2603608938  ok        \n",
       "\n",
       "   pos_count  neg_count  \n",
       "2  1          1          "
      ]
     },
     "execution_count": 25,
     "metadata": {},
     "output_type": "execute_result"
    }
   ],
   "source": [
    "data_df.head(1)"
   ]
  },
  {
   "cell_type": "markdown",
   "metadata": {},
   "source": [
    "Number of positive and negative words in each tweet. "
   ]
  },
  {
   "cell_type": "code",
   "execution_count": 26,
   "metadata": {},
   "outputs": [],
   "source": [
    "def tweet_sentiment(tweet):\n",
    "    \n",
    "    pos_sent=pos_sentiment(tweet)\n",
    "    \n",
    "    neg_sent=neg_sentiment(tweet)\n",
    "    \n",
    "    if pos_sent > neg_sent:\n",
    "        label = \"Positive\"\n",
    "    \n",
    "    elif pos_sent < neg_sent:\n",
    "        label = \"Negative\"\n",
    "    else:\n",
    "        label = \"Neutral\" \n",
    "   \n",
    "   \n",
    "    return label"
   ]
  },
  {
   "cell_type": "code",
   "execution_count": 28,
   "metadata": {},
   "outputs": [],
   "source": [
    "data_df[\"sentiment\"] = data_df['Tweets'].apply(lambda x: tweet_sentiment(str(x)))"
   ]
  },
  {
   "cell_type": "code",
   "execution_count": 29,
   "metadata": {},
   "outputs": [
    {
     "data": {
      "text/html": [
       "<div>\n",
       "<style scoped>\n",
       "    .dataframe tbody tr th:only-of-type {\n",
       "        vertical-align: middle;\n",
       "    }\n",
       "\n",
       "    .dataframe tbody tr th {\n",
       "        vertical-align: top;\n",
       "    }\n",
       "\n",
       "    .dataframe thead th {\n",
       "        text-align: right;\n",
       "    }\n",
       "</style>\n",
       "<table border=\"1\" class=\"dataframe\">\n",
       "  <thead>\n",
       "    <tr style=\"text-align: right;\">\n",
       "      <th></th>\n",
       "      <th>UserName</th>\n",
       "      <th>Date</th>\n",
       "      <th>URL</th>\n",
       "      <th>Tweets</th>\n",
       "      <th>Author</th>\n",
       "      <th>Name</th>\n",
       "      <th>Country</th>\n",
       "      <th>UserID</th>\n",
       "      <th>is Noise</th>\n",
       "      <th>pos_count</th>\n",
       "      <th>neg_count</th>\n",
       "      <th>sentiment</th>\n",
       "    </tr>\n",
       "  </thead>\n",
       "  <tbody>\n",
       "    <tr>\n",
       "      <th>2</th>\n",
       "      <td>hagdaa4</td>\n",
       "      <td>2020-04-30 23:59:42</td>\n",
       "      <td>https://twitter.com/user/show/status/1256010369123917824</td>\n",
       "      <td>@ask_abh اتمنى ما يفتحونه لا هو ولاغيره ...حتى يختفي كورونا</td>\n",
       "      <td>hagdaa4</td>\n",
       "      <td>سبحان الله وبحمده سبحاان الله العظيم🌹🌹</td>\n",
       "      <td>KSA</td>\n",
       "      <td>2603608938</td>\n",
       "      <td>ok</td>\n",
       "      <td>1</td>\n",
       "      <td>1</td>\n",
       "      <td>Neutral</td>\n",
       "    </tr>\n",
       "    <tr>\n",
       "      <th>3</th>\n",
       "      <td>nane33441</td>\n",
       "      <td>2020-04-30 23:59:37</td>\n",
       "      <td>https://twitter.com/user/show/status/1256010350815830017</td>\n",
       "      <td>اللهم إن عبادك قد أعيتهم الحيل وضاقت بهم السبل وأظهروا عجزهم وبان ضعفهم وانكشف لهم من أقدارك ما لا حول لهم ولا قوة ... فاللهم لطفك بعبادك في مشارق الارض ومغاربها .#كورونا</td>\n",
       "      <td>nane33441</td>\n",
       "      <td>احمد الشمراني</td>\n",
       "      <td>المملكة العربية السعودية</td>\n",
       "      <td>786485000000000000</td>\n",
       "      <td>ok</td>\n",
       "      <td>1</td>\n",
       "      <td>2</td>\n",
       "      <td>Negative</td>\n",
       "    </tr>\n",
       "    <tr>\n",
       "      <th>4</th>\n",
       "      <td>h_braveheart</td>\n",
       "      <td>2020-04-30 23:59:35</td>\n",
       "      <td>https://twitter.com/user/show/status/1256010341957414913</td>\n",
       "      <td>تطبيق #توكلنا- طلب استئذان او ترخيص.- عدد الحالات المصابة بـ #كورونا.- انذار عند الاقتراب من المناطق المعزولة.- الابلاغ عن الحالات المشتبه بها.</td>\n",
       "      <td>h_braveheart</td>\n",
       "      <td>‏Braveheart</td>\n",
       "      <td>المملكة العربية السعودية</td>\n",
       "      <td>948794437</td>\n",
       "      <td>ok</td>\n",
       "      <td>3</td>\n",
       "      <td>4</td>\n",
       "      <td>Negative</td>\n",
       "    </tr>\n",
       "    <tr>\n",
       "      <th>5</th>\n",
       "      <td>wn12313</td>\n",
       "      <td>2020-04-30 23:59:19</td>\n",
       "      <td>https://twitter.com/user/show/status/1256010274404028416</td>\n",
       "      <td>@Dan88Dn اخاف الحراره تجيني يختي كيف اقنعهم وقتها انو مو كورونا</td>\n",
       "      <td>wn12313</td>\n",
       "      <td>عَبث طفَله| 11 days left for my birthday🎈💛</td>\n",
       "      <td>المملكة العربية السعودية</td>\n",
       "      <td>1001190000000000000</td>\n",
       "      <td>ok</td>\n",
       "      <td>1</td>\n",
       "      <td>0</td>\n",
       "      <td>Positive</td>\n",
       "    </tr>\n",
       "    <tr>\n",
       "      <th>6</th>\n",
       "      <td>1mdlo</td>\n",
       "      <td>2020-04-30 23:59:07</td>\n",
       "      <td>https://twitter.com/user/show/status/1256010224810496001</td>\n",
       "      <td>@nafxil2 احنا دفعنا لعمال بداية السنة ويوم جاء كورونا قالوا اجازة من الحكومة واهربوا</td>\n",
       "      <td>1mdlo</td>\n",
       "      <td>دو</td>\n",
       "      <td>Kingdom of Saudi Arabia</td>\n",
       "      <td>1212290000000000000</td>\n",
       "      <td>ok</td>\n",
       "      <td>1</td>\n",
       "      <td>1</td>\n",
       "      <td>Neutral</td>\n",
       "    </tr>\n",
       "  </tbody>\n",
       "</table>\n",
       "</div>"
      ],
      "text/plain": [
       "       UserName                 Date  \\\n",
       "2  hagdaa4       2020-04-30 23:59:42   \n",
       "3  nane33441     2020-04-30 23:59:37   \n",
       "4  h_braveheart  2020-04-30 23:59:35   \n",
       "5  wn12313       2020-04-30 23:59:19   \n",
       "6  1mdlo         2020-04-30 23:59:07   \n",
       "\n",
       "                                                        URL  \\\n",
       "2  https://twitter.com/user/show/status/1256010369123917824   \n",
       "3  https://twitter.com/user/show/status/1256010350815830017   \n",
       "4  https://twitter.com/user/show/status/1256010341957414913   \n",
       "5  https://twitter.com/user/show/status/1256010274404028416   \n",
       "6  https://twitter.com/user/show/status/1256010224810496001   \n",
       "\n",
       "                                                                                                                                                                       Tweets  \\\n",
       "2  @ask_abh اتمنى ما يفتحونه لا هو ولاغيره ...حتى يختفي كورونا                                                                                                                  \n",
       "3  اللهم إن عبادك قد أعيتهم الحيل وضاقت بهم السبل وأظهروا عجزهم وبان ضعفهم وانكشف لهم من أقدارك ما لا حول لهم ولا قوة ... فاللهم لطفك بعبادك في مشارق الارض ومغاربها .#كورونا   \n",
       "4  تطبيق #توكلنا- طلب استئذان او ترخيص.- عدد الحالات المصابة بـ #كورونا.- انذار عند الاقتراب من المناطق المعزولة.- الابلاغ عن الحالات المشتبه بها.                              \n",
       "5  @Dan88Dn اخاف الحراره تجيني يختي كيف اقنعهم وقتها انو مو كورونا                                                                                                              \n",
       "6  @nafxil2 احنا دفعنا لعمال بداية السنة ويوم جاء كورونا قالوا اجازة من الحكومة واهربوا                                                                                         \n",
       "\n",
       "         Author                                        Name  \\\n",
       "2  hagdaa4       سبحان الله وبحمده سبحاان الله العظيم🌹🌹       \n",
       "3  nane33441     احمد الشمراني                                \n",
       "4  h_braveheart  ‏Braveheart                                  \n",
       "5  wn12313       عَبث طفَله| 11 days left for my birthday🎈💛   \n",
       "6  1mdlo         دو                                           \n",
       "\n",
       "                    Country               UserID is Noise  pos_count  \\\n",
       "2  KSA                       2603608938           ok       1           \n",
       "3  المملكة العربية السعودية  786485000000000000   ok       1           \n",
       "4  المملكة العربية السعودية  948794437            ok       3           \n",
       "5  المملكة العربية السعودية  1001190000000000000  ok       1           \n",
       "6  Kingdom of Saudi Arabia   1212290000000000000  ok       1           \n",
       "\n",
       "   neg_count sentiment  \n",
       "2  1          Neutral   \n",
       "3  2          Negative  \n",
       "4  4          Negative  \n",
       "5  0          Positive  \n",
       "6  1          Neutral   "
      ]
     },
     "execution_count": 29,
     "metadata": {},
     "output_type": "execute_result"
    }
   ],
   "source": [
    "data_df.head()"
   ]
  },
  {
   "cell_type": "markdown",
   "metadata": {},
   "source": [
    "# Step 5: Explore the results"
   ]
  },
  {
   "cell_type": "code",
   "execution_count": 30,
   "metadata": {},
   "outputs": [],
   "source": [
    "# Q: How many tweets have positive sentiment and how many have negative sentiment\n",
    "tweets_by_sentiment = data_df['sentiment'].value_counts()"
   ]
  },
  {
   "cell_type": "code",
   "execution_count": 31,
   "metadata": {},
   "outputs": [
    {
     "data": {
      "text/plain": [
       "<matplotlib.axes._subplots.AxesSubplot at 0x2c3d4af3888>"
      ]
     },
     "execution_count": 31,
     "metadata": {},
     "output_type": "execute_result"
    },
    {
     "data": {
      "image/png": "[encoded data removed]",
      "text/plain": [
       "<Figure size 432x288 with 1 Axes>"
      ]
     },
     "metadata": {
      "needs_background": "light"
     },
     "output_type": "display_data"
    }
   ],
   "source": [
    "# visualize the results \n",
    "fig, ax = plt.subplots()\n",
    "\n",
    "ax.tick_params(axis='x', labelsize=15)\n",
    "ax.tick_params(axis='y', labelsize=10)\n",
    "\n",
    "ax.set_xlabel('Sentiment', fontsize=15)\n",
    "ax.set_ylabel('Number of tweets' , fontsize=15)\n",
    "\n",
    "tweets_by_sentiment.plot(ax=ax, kind='barh')"
   ]
  },
  {
   "cell_type": "markdown",
   "metadata": {},
   "source": [
    "# Step 6: Clean the text"
   ]
  },
  {
   "cell_type": "code",
   "execution_count": 32,
   "metadata": {},
   "outputs": [],
   "source": [
    "# remove punctuations علامات الترقيم  \n",
    "\n",
    "arabic_punctuations = '''`÷×؛<>_()*&^%][ـ،/:\"؟.,'{}~¦+|!”…“–ـ'''\n",
    "english_punctuations = string.punctuation\n",
    "punctuations_list = arabic_punctuations + english_punctuations\n",
    "\n",
    "def remove_punctuations(text):\n",
    "    translator = str.maketrans('', '', punctuations_list)\n",
    "    return text.translate(translator)"
   ]
  },
  {
   "cell_type": "code",
   "execution_count": 33,
   "metadata": {},
   "outputs": [],
   "source": [
    "def normalize_arabic(text):\n",
    "    \n",
    "    text = re.sub(\"[إأآا]\", \"ا\", text)\n",
    "    text = re.sub(\"ى\", \"ي\", text)\n",
    "    text = re.sub(\"ة\", \"ه\", text)\n",
    "    text = re.sub(\"گ\", \"ك\", text)\n",
    "    text = re.sub(\"ؤ\", \"و\", text)\n",
    "\n",
    "    return text"
   ]
  },
  {
   "cell_type": "code",
   "execution_count": 34,
   "metadata": {},
   "outputs": [],
   "source": [
    "#start processing the tweet \n",
    "def processPost(tweet):\n",
    "\n",
    "    #Replace @username with empty string\n",
    "    tweet = re.sub('@[^\\s]+', ' ', tweet)\n",
    "    \n",
    "    #Convert www.* or https?://* to \" \"\n",
    "    tweet = re.sub('((www\\.[^\\s]+)|(https?://[^\\s]+))',' ',tweet)\n",
    "    \n",
    "    #Replace #word with word\n",
    "    tweet = re.sub(r'#([^\\s]+)', r'\\1', tweet)\n",
    "\n",
    "    # remove punctuations\n",
    "    tweet= remove_punctuations(tweet)\n",
    "    \n",
    "    # normalize the tweet\n",
    "    #check if the word in the dictionary list (it have two letters as part of the word)\n",
    "    tweet= normalize_arabic(tweet)\n",
    "    \n",
    "    #remove numbers\n",
    "    tweet = ''.join(i for i in tweet if not i.isdigit())\n",
    "    \n",
    "    #remove english letters\n",
    "    tweet= re.sub(r'[a-z]+',\" \", tweet)\n",
    "    tweet= re.sub(r'[A-Z]+',\" \", tweet)\n",
    "    \n",
    "    return tweet"
   ]
  },
  {
   "cell_type": "code",
   "execution_count": 36,
   "metadata": {},
   "outputs": [],
   "source": [
    "data_df[\"clean text\"] = data_df['Tweets'].apply(lambda x: processPost(str(x)))"
   ]
  },
  {
   "cell_type": "code",
   "execution_count": 37,
   "metadata": {},
   "outputs": [
    {
     "data": {
      "text/html": [
       "<div>\n",
       "<style scoped>\n",
       "    .dataframe tbody tr th:only-of-type {\n",
       "        vertical-align: middle;\n",
       "    }\n",
       "\n",
       "    .dataframe tbody tr th {\n",
       "        vertical-align: top;\n",
       "    }\n",
       "\n",
       "    .dataframe thead th {\n",
       "        text-align: right;\n",
       "    }\n",
       "</style>\n",
       "<table border=\"1\" class=\"dataframe\">\n",
       "  <thead>\n",
       "    <tr style=\"text-align: right;\">\n",
       "      <th></th>\n",
       "      <th>UserName</th>\n",
       "      <th>Date</th>\n",
       "      <th>URL</th>\n",
       "      <th>Tweets</th>\n",
       "      <th>Author</th>\n",
       "      <th>Name</th>\n",
       "      <th>Country</th>\n",
       "      <th>UserID</th>\n",
       "      <th>is Noise</th>\n",
       "      <th>pos_count</th>\n",
       "      <th>neg_count</th>\n",
       "      <th>sentiment</th>\n",
       "      <th>clean text</th>\n",
       "    </tr>\n",
       "  </thead>\n",
       "  <tbody>\n",
       "    <tr>\n",
       "      <th>2</th>\n",
       "      <td>hagdaa4</td>\n",
       "      <td>2020-04-30 23:59:42</td>\n",
       "      <td>https://twitter.com/user/show/status/1256010369123917824</td>\n",
       "      <td>@ask_abh اتمنى ما يفتحونه لا هو ولاغيره ...حتى يختفي كورونا</td>\n",
       "      <td>hagdaa4</td>\n",
       "      <td>سبحان الله وبحمده سبحاان الله العظيم🌹🌹</td>\n",
       "      <td>KSA</td>\n",
       "      <td>2603608938</td>\n",
       "      <td>ok</td>\n",
       "      <td>1</td>\n",
       "      <td>1</td>\n",
       "      <td>Neutral</td>\n",
       "      <td>اتمني ما يفتحونه لا هو ولاغيره حتي يختفي كورونا</td>\n",
       "    </tr>\n",
       "    <tr>\n",
       "      <th>3</th>\n",
       "      <td>nane33441</td>\n",
       "      <td>2020-04-30 23:59:37</td>\n",
       "      <td>https://twitter.com/user/show/status/1256010350815830017</td>\n",
       "      <td>اللهم إن عبادك قد أعيتهم الحيل وضاقت بهم السبل وأظهروا عجزهم وبان ضعفهم وانكشف لهم من أقدارك ما لا حول لهم ولا قوة ... فاللهم لطفك بعبادك في مشارق الارض ومغاربها .#كورونا</td>\n",
       "      <td>nane33441</td>\n",
       "      <td>احمد الشمراني</td>\n",
       "      <td>المملكة العربية السعودية</td>\n",
       "      <td>786485000000000000</td>\n",
       "      <td>ok</td>\n",
       "      <td>1</td>\n",
       "      <td>2</td>\n",
       "      <td>Negative</td>\n",
       "      <td>اللهم ان عبادك قد اعيتهم الحيل وضاقت بهم السبل واظهروا عجزهم وبان ضعفهم وانكشف لهم من اقدارك ما لا حول لهم ولا قوه  فاللهم لطفك بعبادك في مشارق الارض ومغاربها كورونا</td>\n",
       "    </tr>\n",
       "    <tr>\n",
       "      <th>4</th>\n",
       "      <td>h_braveheart</td>\n",
       "      <td>2020-04-30 23:59:35</td>\n",
       "      <td>https://twitter.com/user/show/status/1256010341957414913</td>\n",
       "      <td>تطبيق #توكلنا- طلب استئذان او ترخيص.- عدد الحالات المصابة بـ #كورونا.- انذار عند الاقتراب من المناطق المعزولة.- الابلاغ عن الحالات المشتبه بها.</td>\n",
       "      <td>h_braveheart</td>\n",
       "      <td>‏Braveheart</td>\n",
       "      <td>المملكة العربية السعودية</td>\n",
       "      <td>948794437</td>\n",
       "      <td>ok</td>\n",
       "      <td>3</td>\n",
       "      <td>4</td>\n",
       "      <td>Negative</td>\n",
       "      <td>تطبيق توكلنا طلب استئذان او ترخيص عدد الحالات المصابه ب كورونا انذار عند الاقتراب من المناطق المعزوله الابلاغ عن الحالات المشتبه بها</td>\n",
       "    </tr>\n",
       "    <tr>\n",
       "      <th>5</th>\n",
       "      <td>wn12313</td>\n",
       "      <td>2020-04-30 23:59:19</td>\n",
       "      <td>https://twitter.com/user/show/status/1256010274404028416</td>\n",
       "      <td>@Dan88Dn اخاف الحراره تجيني يختي كيف اقنعهم وقتها انو مو كورونا</td>\n",
       "      <td>wn12313</td>\n",
       "      <td>عَبث طفَله| 11 days left for my birthday🎈💛</td>\n",
       "      <td>المملكة العربية السعودية</td>\n",
       "      <td>1001190000000000000</td>\n",
       "      <td>ok</td>\n",
       "      <td>1</td>\n",
       "      <td>0</td>\n",
       "      <td>Positive</td>\n",
       "      <td>اخاف الحراره تجيني يختي كيف اقنعهم وقتها انو مو كورونا</td>\n",
       "    </tr>\n",
       "    <tr>\n",
       "      <th>6</th>\n",
       "      <td>1mdlo</td>\n",
       "      <td>2020-04-30 23:59:07</td>\n",
       "      <td>https://twitter.com/user/show/status/1256010224810496001</td>\n",
       "      <td>@nafxil2 احنا دفعنا لعمال بداية السنة ويوم جاء كورونا قالوا اجازة من الحكومة واهربوا</td>\n",
       "      <td>1mdlo</td>\n",
       "      <td>دو</td>\n",
       "      <td>Kingdom of Saudi Arabia</td>\n",
       "      <td>1212290000000000000</td>\n",
       "      <td>ok</td>\n",
       "      <td>1</td>\n",
       "      <td>1</td>\n",
       "      <td>Neutral</td>\n",
       "      <td>احنا دفعنا لعمال بدايه السنه ويوم جاء كورونا قالوا اجازه من الحكومه واهربوا</td>\n",
       "    </tr>\n",
       "  </tbody>\n",
       "</table>\n",
       "</div>"
      ],
      "text/plain": [
       "       UserName                 Date  \\\n",
       "2  hagdaa4       2020-04-30 23:59:42   \n",
       "3  nane33441     2020-04-30 23:59:37   \n",
       "4  h_braveheart  2020-04-30 23:59:35   \n",
       "5  wn12313       2020-04-30 23:59:19   \n",
       "6  1mdlo         2020-04-30 23:59:07   \n",
       "\n",
       "                                                        URL  \\\n",
       "2  https://twitter.com/user/show/status/1256010369123917824   \n",
       "3  https://twitter.com/user/show/status/1256010350815830017   \n",
       "4  https://twitter.com/user/show/status/1256010341957414913   \n",
       "5  https://twitter.com/user/show/status/1256010274404028416   \n",
       "6  https://twitter.com/user/show/status/1256010224810496001   \n",
       "\n",
       "                                                                                                                                                                       Tweets  \\\n",
       "2  @ask_abh اتمنى ما يفتحونه لا هو ولاغيره ...حتى يختفي كورونا                                                                                                                  \n",
       "3  اللهم إن عبادك قد أعيتهم الحيل وضاقت بهم السبل وأظهروا عجزهم وبان ضعفهم وانكشف لهم من أقدارك ما لا حول لهم ولا قوة ... فاللهم لطفك بعبادك في مشارق الارض ومغاربها .#كورونا   \n",
       "4  تطبيق #توكلنا- طلب استئذان او ترخيص.- عدد الحالات المصابة بـ #كورونا.- انذار عند الاقتراب من المناطق المعزولة.- الابلاغ عن الحالات المشتبه بها.                              \n",
       "5  @Dan88Dn اخاف الحراره تجيني يختي كيف اقنعهم وقتها انو مو كورونا                                                                                                              \n",
       "6  @nafxil2 احنا دفعنا لعمال بداية السنة ويوم جاء كورونا قالوا اجازة من الحكومة واهربوا                                                                                         \n",
       "\n",
       "         Author                                        Name  \\\n",
       "2  hagdaa4       سبحان الله وبحمده سبحاان الله العظيم🌹🌹       \n",
       "3  nane33441     احمد الشمراني                                \n",
       "4  h_braveheart  ‏Braveheart                                  \n",
       "5  wn12313       عَبث طفَله| 11 days left for my birthday🎈💛   \n",
       "6  1mdlo         دو                                           \n",
       "\n",
       "                    Country               UserID is Noise  pos_count  \\\n",
       "2  KSA                       2603608938           ok       1           \n",
       "3  المملكة العربية السعودية  786485000000000000   ok       1           \n",
       "4  المملكة العربية السعودية  948794437            ok       3           \n",
       "5  المملكة العربية السعودية  1001190000000000000  ok       1           \n",
       "6  Kingdom of Saudi Arabia   1212290000000000000  ok       1           \n",
       "\n",
       "   neg_count sentiment  \\\n",
       "2  1          Neutral    \n",
       "3  2          Negative   \n",
       "4  4          Negative   \n",
       "5  0          Positive   \n",
       "6  1          Neutral    \n",
       "\n",
       "                                                                                                                                                              clean text  \n",
       "2    اتمني ما يفتحونه لا هو ولاغيره حتي يختفي كورونا                                                                                                                      \n",
       "3  اللهم ان عبادك قد اعيتهم الحيل وضاقت بهم السبل واظهروا عجزهم وبان ضعفهم وانكشف لهم من اقدارك ما لا حول لهم ولا قوه  فاللهم لطفك بعبادك في مشارق الارض ومغاربها كورونا  \n",
       "4  تطبيق توكلنا طلب استئذان او ترخيص عدد الحالات المصابه ب كورونا انذار عند الاقتراب من المناطق المعزوله الابلاغ عن الحالات المشتبه بها                                   \n",
       "5    اخاف الحراره تجيني يختي كيف اقنعهم وقتها انو مو كورونا                                                                                                               \n",
       "6    احنا دفعنا لعمال بدايه السنه ويوم جاء كورونا قالوا اجازه من الحكومه واهربوا                                                                                          "
      ]
     },
     "execution_count": 37,
     "metadata": {},
     "output_type": "execute_result"
    }
   ],
   "source": [
    "data_df.head()"
   ]
  },
  {
   "cell_type": "markdown",
   "metadata": {},
   "source": [
    "# Step 7: Convert text to tokens"
   ]
  },
  {
   "cell_type": "code",
   "execution_count": 38,
   "metadata": {},
   "outputs": [],
   "source": [
    "tokenizer = RegexpTokenizer(r'\\w+')\n",
    "data_df[\"tokens\"] = data_df[\"clean text\"].apply(tokenizer.tokenize)"
   ]
  },
  {
   "cell_type": "code",
   "execution_count": 39,
   "metadata": {},
   "outputs": [
    {
     "data": {
      "text/html": [
       "<div>\n",
       "<style scoped>\n",
       "    .dataframe tbody tr th:only-of-type {\n",
       "        vertical-align: middle;\n",
       "    }\n",
       "\n",
       "    .dataframe tbody tr th {\n",
       "        vertical-align: top;\n",
       "    }\n",
       "\n",
       "    .dataframe thead th {\n",
       "        text-align: right;\n",
       "    }\n",
       "</style>\n",
       "<table border=\"1\" class=\"dataframe\">\n",
       "  <thead>\n",
       "    <tr style=\"text-align: right;\">\n",
       "      <th></th>\n",
       "      <th>UserName</th>\n",
       "      <th>Date</th>\n",
       "      <th>URL</th>\n",
       "      <th>Tweets</th>\n",
       "      <th>Author</th>\n",
       "      <th>Name</th>\n",
       "      <th>Country</th>\n",
       "      <th>UserID</th>\n",
       "      <th>is Noise</th>\n",
       "      <th>pos_count</th>\n",
       "      <th>neg_count</th>\n",
       "      <th>sentiment</th>\n",
       "      <th>clean text</th>\n",
       "      <th>tokens</th>\n",
       "    </tr>\n",
       "  </thead>\n",
       "  <tbody>\n",
       "    <tr>\n",
       "      <th>2</th>\n",
       "      <td>hagdaa4</td>\n",
       "      <td>2020-04-30 23:59:42</td>\n",
       "      <td>https://twitter.com/user/show/status/1256010369123917824</td>\n",
       "      <td>@ask_abh اتمنى ما يفتحونه لا هو ولاغيره ...حتى يختفي كورونا</td>\n",
       "      <td>hagdaa4</td>\n",
       "      <td>سبحان الله وبحمده سبحاان الله العظيم🌹🌹</td>\n",
       "      <td>KSA</td>\n",
       "      <td>2603608938</td>\n",
       "      <td>ok</td>\n",
       "      <td>1</td>\n",
       "      <td>1</td>\n",
       "      <td>Neutral</td>\n",
       "      <td>اتمني ما يفتحونه لا هو ولاغيره حتي يختفي كورونا</td>\n",
       "      <td>[اتمني, ما, يفتحونه, لا, هو, ولاغيره, حتي, يختفي, كورونا]</td>\n",
       "    </tr>\n",
       "    <tr>\n",
       "      <th>3</th>\n",
       "      <td>nane33441</td>\n",
       "      <td>2020-04-30 23:59:37</td>\n",
       "      <td>https://twitter.com/user/show/status/1256010350815830017</td>\n",
       "      <td>اللهم إن عبادك قد أعيتهم الحيل وضاقت بهم السبل وأظهروا عجزهم وبان ضعفهم وانكشف لهم من أقدارك ما لا حول لهم ولا قوة ... فاللهم لطفك بعبادك في مشارق الارض ومغاربها .#كورونا</td>\n",
       "      <td>nane33441</td>\n",
       "      <td>احمد الشمراني</td>\n",
       "      <td>المملكة العربية السعودية</td>\n",
       "      <td>786485000000000000</td>\n",
       "      <td>ok</td>\n",
       "      <td>1</td>\n",
       "      <td>2</td>\n",
       "      <td>Negative</td>\n",
       "      <td>اللهم ان عبادك قد اعيتهم الحيل وضاقت بهم السبل واظهروا عجزهم وبان ضعفهم وانكشف لهم من اقدارك ما لا حول لهم ولا قوه  فاللهم لطفك بعبادك في مشارق الارض ومغاربها كورونا</td>\n",
       "      <td>[اللهم, ان, عبادك, قد, اعيتهم, الحيل, وضاقت, بهم, السبل, واظهروا, عجزهم, وبان, ضعفهم, وانكشف, لهم, من, اقدارك, ما, لا, حول, لهم, ولا, قوه, فاللهم, لطفك, بعبادك, في, مشارق, الارض, ومغاربها, كورونا]</td>\n",
       "    </tr>\n",
       "    <tr>\n",
       "      <th>4</th>\n",
       "      <td>h_braveheart</td>\n",
       "      <td>2020-04-30 23:59:35</td>\n",
       "      <td>https://twitter.com/user/show/status/1256010341957414913</td>\n",
       "      <td>تطبيق #توكلنا- طلب استئذان او ترخيص.- عدد الحالات المصابة بـ #كورونا.- انذار عند الاقتراب من المناطق المعزولة.- الابلاغ عن الحالات المشتبه بها.</td>\n",
       "      <td>h_braveheart</td>\n",
       "      <td>‏Braveheart</td>\n",
       "      <td>المملكة العربية السعودية</td>\n",
       "      <td>948794437</td>\n",
       "      <td>ok</td>\n",
       "      <td>3</td>\n",
       "      <td>4</td>\n",
       "      <td>Negative</td>\n",
       "      <td>تطبيق توكلنا طلب استئذان او ترخيص عدد الحالات المصابه ب كورونا انذار عند الاقتراب من المناطق المعزوله الابلاغ عن الحالات المشتبه بها</td>\n",
       "      <td>[تطبيق, توكلنا, طلب, استئذان, او, ترخيص, عدد, الحالات, المصابه, ب, كورونا, انذار, عند, الاقتراب, من, المناطق, المعزوله, الابلاغ, عن, الحالات, المشتبه, بها]</td>\n",
       "    </tr>\n",
       "    <tr>\n",
       "      <th>5</th>\n",
       "      <td>wn12313</td>\n",
       "      <td>2020-04-30 23:59:19</td>\n",
       "      <td>https://twitter.com/user/show/status/1256010274404028416</td>\n",
       "      <td>@Dan88Dn اخاف الحراره تجيني يختي كيف اقنعهم وقتها انو مو كورونا</td>\n",
       "      <td>wn12313</td>\n",
       "      <td>عَبث طفَله| 11 days left for my birthday🎈💛</td>\n",
       "      <td>المملكة العربية السعودية</td>\n",
       "      <td>1001190000000000000</td>\n",
       "      <td>ok</td>\n",
       "      <td>1</td>\n",
       "      <td>0</td>\n",
       "      <td>Positive</td>\n",
       "      <td>اخاف الحراره تجيني يختي كيف اقنعهم وقتها انو مو كورونا</td>\n",
       "      <td>[اخاف, الحراره, تجيني, يختي, كيف, اقنعهم, وقتها, انو, مو, كورونا]</td>\n",
       "    </tr>\n",
       "    <tr>\n",
       "      <th>6</th>\n",
       "      <td>1mdlo</td>\n",
       "      <td>2020-04-30 23:59:07</td>\n",
       "      <td>https://twitter.com/user/show/status/1256010224810496001</td>\n",
       "      <td>@nafxil2 احنا دفعنا لعمال بداية السنة ويوم جاء كورونا قالوا اجازة من الحكومة واهربوا</td>\n",
       "      <td>1mdlo</td>\n",
       "      <td>دو</td>\n",
       "      <td>Kingdom of Saudi Arabia</td>\n",
       "      <td>1212290000000000000</td>\n",
       "      <td>ok</td>\n",
       "      <td>1</td>\n",
       "      <td>1</td>\n",
       "      <td>Neutral</td>\n",
       "      <td>احنا دفعنا لعمال بدايه السنه ويوم جاء كورونا قالوا اجازه من الحكومه واهربوا</td>\n",
       "      <td>[احنا, دفعنا, لعمال, بدايه, السنه, ويوم, جاء, كورونا, قالوا, اجازه, من, الحكومه, واهربوا]</td>\n",
       "    </tr>\n",
       "  </tbody>\n",
       "</table>\n",
       "</div>"
      ],
      "text/plain": [
       "       UserName                 Date  \\\n",
       "2  hagdaa4       2020-04-30 23:59:42   \n",
       "3  nane33441     2020-04-30 23:59:37   \n",
       "4  h_braveheart  2020-04-30 23:59:35   \n",
       "5  wn12313       2020-04-30 23:59:19   \n",
       "6  1mdlo         2020-04-30 23:59:07   \n",
       "\n",
       "                                                        URL  \\\n",
       "2  https://twitter.com/user/show/status/1256010369123917824   \n",
       "3  https://twitter.com/user/show/status/1256010350815830017   \n",
       "4  https://twitter.com/user/show/status/1256010341957414913   \n",
       "5  https://twitter.com/user/show/status/1256010274404028416   \n",
       "6  https://twitter.com/user/show/status/1256010224810496001   \n",
       "\n",
       "                                                                                                                                                                       Tweets  \\\n",
       "2  @ask_abh اتمنى ما يفتحونه لا هو ولاغيره ...حتى يختفي كورونا                                                                                                                  \n",
       "3  اللهم إن عبادك قد أعيتهم الحيل وضاقت بهم السبل وأظهروا عجزهم وبان ضعفهم وانكشف لهم من أقدارك ما لا حول لهم ولا قوة ... فاللهم لطفك بعبادك في مشارق الارض ومغاربها .#كورونا   \n",
       "4  تطبيق #توكلنا- طلب استئذان او ترخيص.- عدد الحالات المصابة بـ #كورونا.- انذار عند الاقتراب من المناطق المعزولة.- الابلاغ عن الحالات المشتبه بها.                              \n",
       "5  @Dan88Dn اخاف الحراره تجيني يختي كيف اقنعهم وقتها انو مو كورونا                                                                                                              \n",
       "6  @nafxil2 احنا دفعنا لعمال بداية السنة ويوم جاء كورونا قالوا اجازة من الحكومة واهربوا                                                                                         \n",
       "\n",
       "         Author                                        Name  \\\n",
       "2  hagdaa4       سبحان الله وبحمده سبحاان الله العظيم🌹🌹       \n",
       "3  nane33441     احمد الشمراني                                \n",
       "4  h_braveheart  ‏Braveheart                                  \n",
       "5  wn12313       عَبث طفَله| 11 days left for my birthday🎈💛   \n",
       "6  1mdlo         دو                                           \n",
       "\n",
       "                    Country               UserID is Noise  pos_count  \\\n",
       "2  KSA                       2603608938           ok       1           \n",
       "3  المملكة العربية السعودية  786485000000000000   ok       1           \n",
       "4  المملكة العربية السعودية  948794437            ok       3           \n",
       "5  المملكة العربية السعودية  1001190000000000000  ok       1           \n",
       "6  Kingdom of Saudi Arabia   1212290000000000000  ok       1           \n",
       "\n",
       "   neg_count sentiment  \\\n",
       "2  1          Neutral    \n",
       "3  2          Negative   \n",
       "4  4          Negative   \n",
       "5  0          Positive   \n",
       "6  1          Neutral    \n",
       "\n",
       "                                                                                                                                                              clean text  \\\n",
       "2    اتمني ما يفتحونه لا هو ولاغيره حتي يختفي كورونا                                                                                                                       \n",
       "3  اللهم ان عبادك قد اعيتهم الحيل وضاقت بهم السبل واظهروا عجزهم وبان ضعفهم وانكشف لهم من اقدارك ما لا حول لهم ولا قوه  فاللهم لطفك بعبادك في مشارق الارض ومغاربها كورونا   \n",
       "4  تطبيق توكلنا طلب استئذان او ترخيص عدد الحالات المصابه ب كورونا انذار عند الاقتراب من المناطق المعزوله الابلاغ عن الحالات المشتبه بها                                    \n",
       "5    اخاف الحراره تجيني يختي كيف اقنعهم وقتها انو مو كورونا                                                                                                                \n",
       "6    احنا دفعنا لعمال بدايه السنه ويوم جاء كورونا قالوا اجازه من الحكومه واهربوا                                                                                           \n",
       "\n",
       "                                                                                                                                                                                                 tokens  \n",
       "2  [اتمني, ما, يفتحونه, لا, هو, ولاغيره, حتي, يختفي, كورونا]                                                                                                                                             \n",
       "3  [اللهم, ان, عبادك, قد, اعيتهم, الحيل, وضاقت, بهم, السبل, واظهروا, عجزهم, وبان, ضعفهم, وانكشف, لهم, من, اقدارك, ما, لا, حول, لهم, ولا, قوه, فاللهم, لطفك, بعبادك, في, مشارق, الارض, ومغاربها, كورونا]  \n",
       "4  [تطبيق, توكلنا, طلب, استئذان, او, ترخيص, عدد, الحالات, المصابه, ب, كورونا, انذار, عند, الاقتراب, من, المناطق, المعزوله, الابلاغ, عن, الحالات, المشتبه, بها]                                           \n",
       "5  [اخاف, الحراره, تجيني, يختي, كيف, اقنعهم, وقتها, انو, مو, كورونا]                                                                                                                                     \n",
       "6  [احنا, دفعنا, لعمال, بدايه, السنه, ويوم, جاء, كورونا, قالوا, اجازه, من, الحكومه, واهربوا]                                                                                                             "
      ]
     },
     "execution_count": 39,
     "metadata": {},
     "output_type": "execute_result"
    }
   ],
   "source": [
    "data_df.head()"
   ]
  },
  {
   "cell_type": "code",
   "execution_count": 40,
   "metadata": {},
   "outputs": [
    {
     "name": "stdout",
     "output_type": "stream",
     "text": [
      "19138158 words total, with a vocabulary size of 542291\n",
      "Max sentence length is 1808\n"
     ]
    }
   ],
   "source": [
    "all_words = [word for tokens in data_df[\"tokens\"] for word in tokens]\n",
    "sentence_lengths = [len(tokens) for tokens in data_df[\"tokens\"]]\n",
    "\n",
    "VOCAB = sorted(list(set(all_words)))\n",
    "\n",
    "print(\"%s words total, with a vocabulary size of %s\" % (len(all_words), len(VOCAB)))\n",
    "print(\"Max sentence length is %s\" % max(sentence_lengths))"
   ]
  },
  {
   "cell_type": "code",
   "execution_count": 41,
   "metadata": {},
   "outputs": [],
   "source": [
    "# count the number of words\n",
    "word_counter = Counter(all_words)"
   ]
  },
  {
   "cell_type": "code",
   "execution_count": 42,
   "metadata": {},
   "outputs": [
    {
     "data": {
      "text/plain": [
       "[('كورونا', 632847),\n",
       " ('من', 532711),\n",
       " ('في', 459510),\n",
       " ('علي', 206320),\n",
       " ('فيروس', 184919),\n",
       " ('الله', 142855),\n",
       " ('السعوديه', 134350),\n",
       " ('و', 123836),\n",
       " ('ان', 113886),\n",
       " ('عن', 104595),\n",
       " ('فيروسكورونا', 95827),\n",
       " ('الي', 86577),\n",
       " ('ا', 83085),\n",
       " ('مع', 72276),\n",
       " ('الصحه', 68057),\n",
       " ('حاله', 63960),\n",
       " ('لا', 63817),\n",
       " ('للوقايه', 58868),\n",
       " ('ما', 57734),\n",
       " ('كل', 57548),\n",
       " ('انتشار', 56162),\n",
       " ('بعد', 54241),\n",
       " ('هذا', 52960),\n",
       " ('ب', 51420),\n",
       " ('المملكه', 49466),\n",
       " ('او', 49424),\n",
       " ('الرياضيه', 49172),\n",
       " ('عدوي', 48653),\n",
       " ('الرياض', 47847),\n",
       " ('قناه', 47768)]"
      ]
     },
     "execution_count": 42,
     "metadata": {},
     "output_type": "execute_result"
    }
   ],
   "source": [
    "# show the most common words\n",
    "word_counter.most_common(30)"
   ]
  },
  {
   "cell_type": "code",
   "execution_count": 43,
   "metadata": {},
   "outputs": [],
   "source": [
    "\n",
    "for_df=data_df[data_df[\"sentiment\"]==\"Positive\"]"
   ]
  },
  {
   "cell_type": "code",
   "execution_count": 44,
   "metadata": {},
   "outputs": [],
   "source": [
    "For_words = [ word for tokens in for_df[\"tokens\"] for word in tokens]"
   ]
  },
  {
   "cell_type": "code",
   "execution_count": 45,
   "metadata": {},
   "outputs": [],
   "source": [
    "for_word_counter = Counter(For_words)"
   ]
  },
  {
   "cell_type": "code",
   "execution_count": 46,
   "metadata": {},
   "outputs": [
    {
     "data": {
      "text/plain": [
       "[('كورونا', 261915),\n",
       " ('من', 244118),\n",
       " ('في', 213723),\n",
       " ('علي', 102254),\n",
       " ('الله', 80137),\n",
       " ('فيروس', 63134),\n",
       " ('ان', 61206),\n",
       " ('السعوديه', 60672),\n",
       " ('و', 60024),\n",
       " ('عن', 51695)]"
      ]
     },
     "execution_count": 46,
     "metadata": {},
     "output_type": "execute_result"
    }
   ],
   "source": [
    "for_word_counter.most_common(10)"
   ]
  },
  {
   "cell_type": "code",
   "execution_count": 47,
   "metadata": {},
   "outputs": [],
   "source": [
    "against_df=data_df[data_df[\"sentiment\"]==\"Negative\"]"
   ]
  },
  {
   "cell_type": "code",
   "execution_count": 48,
   "metadata": {},
   "outputs": [],
   "source": [
    "against_words = [ word for tokens in against_df[\"tokens\"] for word in tokens]"
   ]
  },
  {
   "cell_type": "code",
   "execution_count": 49,
   "metadata": {},
   "outputs": [],
   "source": [
    "against_word_counter = Counter(against_words)"
   ]
  },
  {
   "cell_type": "code",
   "execution_count": 50,
   "metadata": {},
   "outputs": [
    {
     "data": {
      "text/plain": [
       "[('كورونا', 229537),\n",
       " ('من', 190283),\n",
       " ('في', 177733),\n",
       " ('فيروس', 93243),\n",
       " ('علي', 76827),\n",
       " ('حاله', 48124),\n",
       " ('السعوديه', 47999),\n",
       " ('فيروسكورونا', 47014),\n",
       " ('و', 44639),\n",
       " ('الله', 39061)]"
      ]
     },
     "execution_count": 50,
     "metadata": {},
     "output_type": "execute_result"
    }
   ],
   "source": [
    "against_word_counter.most_common(10)"
   ]
  },
  {
   "cell_type": "markdown",
   "metadata": {},
   "source": [
    "# Step 6: ML Classification"
   ]
  },
  {
   "cell_type": "code",
   "execution_count": 51,
   "metadata": {},
   "outputs": [],
   "source": [
    "from sklearn.feature_extraction.text import TfidfVectorizer\n",
    "from sklearn.model_selection import train_test_split\n",
    "from sklearn import svm\n",
    "from sklearn.linear_model import LogisticRegression\n",
    "from sklearn.model_selection import cross_val_score, cross_val_predict, KFold\n",
    "from sklearn.metrics  import confusion_matrix, classification_report\n",
    "from sklearn import metrics"
   ]
  },
  {
   "cell_type": "code",
   "execution_count": 52,
   "metadata": {},
   "outputs": [],
   "source": [
    "# remove the \"Neutral\" class\n",
    "data_df=data_df[data_df['sentiment'] != \"Neutral\"]"
   ]
  },
  {
   "cell_type": "code",
   "execution_count": 53,
   "metadata": {},
   "outputs": [],
   "source": [
    "# change values to numeric\n",
    "data_df['sentiment'] = data_df['sentiment'].map({'Positive': 1, 'Negative': 0}) "
   ]
  },
  {
   "cell_type": "code",
   "execution_count": 54,
   "metadata": {},
   "outputs": [],
   "source": [
    "# idneitfy the data and the labels\n",
    "data= data_df['clean text']\n",
    "target= data_df['sentiment']"
   ]
  },
  {
   "cell_type": "code",
   "execution_count": 55,
   "metadata": {},
   "outputs": [
    {
     "data": {
      "text/plain": [
       "(744021, 489018)"
      ]
     },
     "execution_count": 55,
     "metadata": {},
     "output_type": "execute_result"
    }
   ],
   "source": [
    "# Use TfidfVectorizer for feature extraction (TFIDF to convert textual data to numeric form):\n",
    "tf_vec = TfidfVectorizer()\n",
    "X = tf_vec.fit_transform(data)\n",
    "X.shape"
   ]
  },
  {
   "cell_type": "code",
   "execution_count": 56,
   "metadata": {},
   "outputs": [],
   "source": [
    "# Training Phase\n",
    "X_train, X_test, y_train, y_test = train_test_split(X, target, test_size=0.50, random_state=0)"
   ]
  },
  {
   "cell_type": "code",
   "execution_count": 57,
   "metadata": {},
   "outputs": [
    {
     "name": "stdout",
     "output_type": "stream",
     "text": [
      "(372010, 489018) (372011, 489018) (372010,) (372011,)\n"
     ]
    }
   ],
   "source": [
    "print(X_train.shape,X_test.shape,y_train.shape,y_test.shape)"
   ]
  },
  {
   "cell_type": "markdown",
   "metadata": {},
   "source": [
    "## Support Vector Machine Classifier"
   ]
  },
  {
   "cell_type": "code",
   "execution_count": null,
   "metadata": {},
   "outputs": [],
   "source": [
    "# create the classifer and fit the training data and lables\n",
    "classifier_svm = svm.SVC(kernel='linear', C=1, probability=True).fit(X_train,y_train)\n",
    "\n",
    "print(\"SVM accuracy: %.2f\"%classifier_svm.score(X_test, y_test))"
   ]
  },
  {
   "cell_type": "code",
   "execution_count": null,
   "metadata": {},
   "outputs": [],
   "source": [
    "#do a 10 fold cross-validation \n",
    "results_svm = cross_val_score(classifier_svm, X,target, cv=10)\n",
    "print(\"\\n10-fold cross-validation:\")\n",
    "print(results_svm)\n",
    "\n",
    "print(\"The average accuracy of the SVM classifier is : %.2f\" % np.mean(results_svm))"
   ]
  },
  {
   "cell_type": "code",
   "execution_count": null,
   "metadata": {},
   "outputs": [],
   "source": [
    "print(\"\\nConfusion matrix of the SVM classifier:\")\n",
    "predicted_svm = classifier_svm.predict(X_test)\n",
    "print(confusion_matrix(y_test,predicted_svm))"
   ]
  },
  {
   "cell_type": "code",
   "execution_count": null,
   "metadata": {},
   "outputs": [],
   "source": [
    "print(\"\\nClassification_report of SVM classifier:\")\n",
    "print(classification_report(y_test,predicted_svm))\n",
    "print(\"----------------------------------------------------------------------------\")"
   ]
  },
  {
   "cell_type": "code",
   "execution_count": null,
   "metadata": {},
   "outputs": [],
   "source": [
    "# calculate the fpr and tpr for all thresholds of the classification\n",
    "probs = classifier_svm.predict_proba(X_test)\n",
    "preds = probs[:,1]\n",
    "\n",
    "fpr, tpr, threshold = metrics.roc_curve(y_test, preds)\n",
    "roc_auc = metrics.auc(fpr, tpr)"
   ]
  },
  {
   "cell_type": "code",
   "execution_count": null,
   "metadata": {},
   "outputs": [],
   "source": [
    "# polt the AUC\n",
    "plt.title('Receiver Operating Characteristic SVM classifier')\n",
    "plt.plot(fpr, tpr, 'b', label = 'AUC = %0.2f' % roc_auc)\n",
    "plt.legend(loc = 'lower right')\n",
    "plt.plot([0, 1], [0, 1],'r--')\n",
    "plt.xlim([0, 1])\n",
    "plt.ylim([0, 1])\n",
    "plt.ylabel('True Positive Rate')\n",
    "plt.xlabel('False Positive Rate')\n",
    "plt.show()"
   ]
  },
  {
   "cell_type": "code",
   "execution_count": null,
   "metadata": {},
   "outputs": [],
   "source": [
    "def most_informative_feature(vectorizer, classifier, top_features=20):\n",
    "    \n",
    "    feature_names = vectorizer.get_feature_names()\n",
    "    svm_coef = classifier.coef_.toarray() \n",
    "    \n",
    "    top_positive_coefficients = sorted(zip(svm_coef[0], feature_names))[-top_features:]\n",
    "    top_negative_coefficients = sorted(zip(svm_coef[0], feature_names))[:top_features]\n",
    "    \n",
    "    print (\"Top Positive Coefficients\")\n",
    "    print (\"==========================\")\n",
    "    for coef, feat in top_positive_coefficients:\n",
    "        print (feat, coef)\n",
    "        \n",
    "    print (\"\")\n",
    "    print (\"Top Negative Coefficients\")\n",
    "    print (\"==========================\")\n",
    "    for coef, feat in top_negative_coefficients:\n",
    "        print (feat, coef)       \n"
   ]
  },
  {
   "cell_type": "code",
   "execution_count": null,
   "metadata": {},
   "outputs": [],
   "source": [
    "# show the most informatics features for the svm classifier \n",
    "most_informative_feature(tf_vec,classifier_svm)"
   ]
  }
 ],
 "metadata": {
  "kernelspec": {
   "display_name": "Python 3",
   "language": "python",
   "name": "python3"
  },
  "language_info": {
   "codemirror_mode": {
    "name": "ipython",
    "version": 3
   },
   "file_extension": ".py",
   "mimetype": "text/x-python",
   "name": "python",
   "nbconvert_exporter": "python",
   "pygments_lexer": "ipython3",
   "version": "3.7.6"
  }
 },
 "nbformat": 4,
 "nbformat_minor": 2
}
